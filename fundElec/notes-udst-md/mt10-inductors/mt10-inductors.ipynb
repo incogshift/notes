{
 "cells": [
  {
   "cell_type": "markdown",
   "id": "3d93c341-423e-41c3-addf-1e87c2a779e0",
   "metadata": {},
   "source": [
    "# INTRODUCTION\n",
    "\n",
    "- In many ways, the inductor is the dual of the capacitor; that is, the voltage of one is applicable to the current of the other, and vice versa.\n",
    "- Like the capacitor, the inductor exhibits its true characteristics only when a change in voltage or current is made in the network."
   ]
  },
  {
   "cell_type": "markdown",
   "id": "721c41ce-60d7-4fdd-855a-7368bf647f60",
   "metadata": {},
   "source": [
    "## INDUCTANCE\n",
    "\n",
    "![](./images/ftzSQG2TfxnOAGY4EpIGMa0hYS666suPK.png)\n",
    "\n",
    " In total, therefore, inductors are designed to set up a strong magnetic field linking the unit, whereas capacitors are designed to set up a strong electric field between the plates.\n",
    "\n",
    "![](./images/fErsCBUPyPuZGU3iFDoXDTB1y937piwGb.png)\n",
    "FIG. 11.16 Defining the parameters\n",
    "\n",
    "for Eq. (11.6)."
   ]
  },
  {
   "cell_type": "markdown",
   "id": "f90dcbf1-7d79-487f-aee6-cf9f5428bb91",
   "metadata": {},
   "source": [
    "## INDUCTANCE\n",
    "\n",
    "# Types of Inductors\n",
    "\n",
    "The 2 general categories of inductors are Fixed and Variable Inductors\n",
    "\n",
    "## Inductor Construction\n",
    "\n",
    "![](./images/fMOrwE9Dxy6S73a6ZzZulvDXwSNSphzvp.png)\n",
    "\n",
    "![](./images/fcn91fbU14GmEvbStVDlogKYAceGULVAm.png)\n",
    "\n",
    "FIG. 11.18 Air-core coil for Example 11.1.\n",
    "\n",
    "![](./images/fzLmULHKY1PXbgoZvpAZ0CZetkVMlvR1i.png)\n",
    "\n",
    "**Tapped inductors** are inductors that have one or more additional electrical connections (called taps) made along the winding of the coil, instead of just at the two ends.\n",
    "\n",
    "These taps at specific points along its length have different voltage or impedance levels.\n",
    "\n",
    "A **variable (permeability-tuned) inductor** is an inductor whose inductance can be adjusted by changing the magnetic permeability of its core—typically by moving a ferromagnetic core (like iron or ferrite) into or out of the coil.\n",
    "\n",
    "How it works:\n",
    "- Inductance $L \\propto \\mu L \\propto \\mu$, where μμ is the permeability of the core material.\n",
    "- When a magnetic core is inserted deeper into the coil, the permeability increases, and so does the inductance.\n",
    "- When the core is pulled out, permeability decreases → inductance drops.\n",
    "\n",
    "![](./images/fNmgVBhzee4eGnOlyyaY705TQSWAaFuem.png)\n",
    "\n",
    "FIG. 11.23 Variable inductors with a typical range of values from 1 mH to $100mH$ commonly used in oscillators and various RF circuits such as CB transceivers televisions, and radios.\n",
    "\n",
    "![](./images/fTb4QgSGVu0M9hQqrr9EqssWLRFoEeSYi.png)\n",
    "\n",
    "FIG. 11.21 Relative sizes of different types of inductors: (a) toroid, high-current; (b) phenolic (resin or plastic core); (c) ferrite core."
   ]
  },
  {
   "cell_type": "markdown",
   "id": "6ddd4936-4e01-4f35-b95b-3b837873e007",
   "metadata": {},
   "source": [
    "# Measurement and Testing of Inductors\n",
    "\n",
    "FIG. 11.27 Digital reading inductance meter. (Courtesy of $B+K$ Precision.)\n",
    "\n",
    "![](./images/f2YaIIkUIkygZSVo0hKEPD05rXFqqqz34.png)\n",
    "\n",
    "1\n",
    "\n",
    "[video](https://www.youtube.com/watch?v=OKpmp7R6vBU)\n",
    "\n",
    "![](./images/fePcbdhZ66OYoboUD5qILowidBo0puA5t.png)"
   ]
  },
  {
   "cell_type": "markdown",
   "id": "a4a95d16-2515-4150-9a0c-32fe1073eb1c",
   "metadata": {},
   "source": [
    "# INDUCED VOLTAGE $V_L$\n",
    "\n",
    "![](./images/fR0Zs8Yb3WyW9gB1Ugt9c9doyWQBi6rAZ.png)\n",
    "\n",
    "Faraday's Law of electromagnetic induction.\n",
    "\n",
    "FIG. 11.28 Generating an induced voltage by moving a conductor through a magnetic field.\n",
    "\n",
    "![](./images/fNVUR8eyoW68nGlGWdYcnrESQHg5L1GQ9.png)\n",
    "\n",
    "FIG. 11.29 Demonstrating Faraday's law."
   ]
  },
  {
   "cell_type": "markdown",
   "id": "468af4f0-06d9-424b-a1eb-acc3e22d430a",
   "metadata": {},
   "source": [
    "# Inductance of Coils\n",
    "\n",
    "- Number of turns: $N$\n",
    "- Self-inductance: $L$\n",
    "- Cross-sectional area: $A$\n",
    "- Length of the coil: $l$\n",
    "- Permeability of the core: $\\mu$\n",
    "\n",
    "\\begin{align*}\n",
    "    &L \\propto N^2 \\quad \\text{(more turns induce more magnetic flux)} \\\\\n",
    "    &L \\propto A \\quad \\text{(a larger area allows more flux linkage)} \\\\\n",
    "    &L \\propto \\mu \\quad \\text{(higher permeability strengthens the magnetic field)} \\\\\n",
    "    &L \\propto \\frac{1}{l} \\quad \\text{(a shorter coil concentrates the field more)} \\\\\n",
    "\\end{align*}\n"
   ]
  },
  {
   "cell_type": "markdown",
   "id": "db349455-b184-4c32-95f9-5c25c33642bf",
   "metadata": {},
   "source": [
    "## Physical Characteristics of an Inductor \n",
    "\n",
    "An inductor is made of a coil of conducting wire\n",
    "\n",
    "![](./images/fOYUGuCQ3I23PQ3E69wE4vgazh1XUH0IR.png)\n",
    "\n",
    "$$L = \\frac{N^2 \\mu A}{l}$$\n",
    "\n",
    "$$\\mu_0=4\\pi\\times10^{-7}\\mathrm{~H}\\cdot\\mathrm{m}^{-1}$$"
   ]
  },
  {
   "cell_type": "markdown",
   "id": "604a88f3-6a87-4796-912a-e753e77e866d",
   "metadata": {},
   "source": [
    "# Permeability ($\\mu$)\n",
    "\n",
    "Permeability is the measure of the ability of a material to support the formation of a magnetic field within itself.\n",
    "\n",
    "Magnetic susceptibility is the degree of magnetization that a material obtains in response to an applied magnetic field.\n",
    "\n",
    "SI units: $\\mathrm{H\\cdot m}^{-1}$\n",
    "\n",
    "Permeability constant, $(\\mu_0)$ , also known as the magnetic constant or the permeability of free space, is a measure of the amount of resistance encountered when forming a magnetic field in a classical vacuum.\n",
    "\n",
    "The magnetic constant has the exact (defined) value $\\mu_0 = 4\\pi^{\\times}10^{-7}$"
   ]
  },
  {
   "cell_type": "markdown",
   "id": "a4936e4a-b90e-46e4-bd21-78d6686364c4",
   "metadata": {
    "jp-MarkdownHeadingCollapsed": true
   },
   "source": [
    "```{exercise}\n",
    ":class: dropdown\n",
    "\n",
    "What is the inductance of a $2 cm$ long, $150$ turn coil wrapped on a low carbon steel core that is $0.5~cm$ diameter?\n",
    "\n",
    "The permeability of low carbon steel is $2.5 \\times 10-4~H/m~(Wb/At-m)$.\n",
    "\n",
    "\\begin{align*}\n",
    "(0.0025 m^2 = 1.9635 x 10^{-5} m^2 \\\\\n",
    "= 5.5 mH \\\\\n",
    "\\end{align*}\n",
    "\n",
    "A $0.15m$ long air-core coil has a radius of 0.006 m and 120 turns. Compute its inductance\n",
    "\n",
    "```"
   ]
  },
  {
   "cell_type": "markdown",
   "id": "27e9f938-4bb5-455e-8caa-b826dbd19aac",
   "metadata": {},
   "source": [
    "# Practical Inductors\n",
    "\n",
    "- Inductors are not ideal, associated with a resistance determined by:\n",
    "    1. The resistance of the turns of wire.\n",
    "    2. The core losses.\n",
    "- The inductor resistance is included in its equivalent circuit.\n",
    "\n",
    "![](./images/ftxrBbsNE1OEn5yahwHyLPaFvD4my5mip.png)\n",
    "\n",
    "Practical equivalent model for an inductor."
   ]
  },
  {
   "cell_type": "markdown",
   "id": "19ee4907-a946-45ae-be75-a64d72c32182",
   "metadata": {},
   "source": [
    "## Physical parameters affecting inductance\n",
    "\n",
    "The inductance given by the equation in the previous slide is for the ideal case. In practice, inductors have winding resistance. $(R_\\mathrm{W})$ and winding capacitance $(C_\\mathrm{W})$ . An equivalent circuit for a practical inductor including these effects is:\n",
    "\n",
    "![](./images/fpmY7P7A8KmCnbSbGMpr7OnYEcOsYHn7r.png)"
   ]
  },
  {
   "cell_type": "markdown",
   "id": "dcb0e3f8-06b0-4ea9-815b-9ef6aac075ae",
   "metadata": {},
   "source": [
    "### Inductors in Series\n",
    "\n",
    "![](./images/fDIku3P7mhs7PEu73gf6IRLr4AkxocUKG.png)"
   ]
  },
  {
   "cell_type": "markdown",
   "id": "613036bb-f05b-4be7-99dc-8e0c170be7b7",
   "metadata": {},
   "source": [
    "## INDUCTORS IN SERIES AND IN PARALLEL\n",
    "\n",
    "![](./images/fWMgeoguvCt6c0cxKSOXLROnzGgsphlom.png)\n",
    "\n",
    "FIG. 11.57 Inductors in parallel.\n",
    "\n",
    "![](./images/fgQ1uoFLGcobUanglPZfGNHDSrgGY9Miz.png)\n",
    "\n",
    "\n",
    "![](./images/fE1xftGQqhCLRbwi0DCy1pufZV4qDLVUD.png)\n",
    "\n",
    "FIG. 11.58 Example 11.9.\n",
    "\n",
    "![](./images/fENAGrQOvdcUGieZDW7Gfgi82QpboKvyf.png)\n",
    "\n",
    "FIG. 11.59 Terminal equivalent of the network in Fig. 11.58.."
   ]
  },
  {
   "cell_type": "code",
   "execution_count": null,
   "id": "d21d3f1e-15e6-41cf-a1c2-d44985411666",
   "metadata": {},
   "outputs": [],
   "source": []
  }
 ],
 "metadata": {
  "kernelspec": {
   "display_name": "",
   "name": ""
  },
  "language_info": {
   "name": ""
  }
 },
 "nbformat": 4,
 "nbformat_minor": 5
}
