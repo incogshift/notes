{
 "cells": [
  {
   "cell_type": "markdown",
   "metadata": {},
   "source": [
    "---\n",
    "title: Complex Numbers\n",
    "subtitle: Unit-6\n",
    "---"
   ]
  },
  {
   "cell_type": "markdown",
   "metadata": {},
   "source": [
    "\n",
    "# Polar Coordinate System\n",
    "\n",
    "![image](image-12.png)\n",
    "\n",
    "![image](image-13.png)"
   ]
  },
  {
   "cell_type": "markdown",
   "metadata": {},
   "source": [
    "```{exercise}\n",
    ":class: dropdown\n",
    "\n",
    "1.  Plot the points whose polar cooridnates are given..\n",
    "\n",
    "<!-- -->\n",
    "\n",
    "1.\n",
    "\n",
    "a. $\\left(3,\\frac{5\\pi}{6}\\right)$\n",
    "\n",
    "b. $\\left(5,-\\frac{\\pi}{4}\\right)$\n",
    "\n",
    "c. $(3.5,3\\pi)$\n",
    "\n",
    "d. $\\begin{pmatrix}-4,\\frac{\\pi}{3}\\end{pmatrix}$\n",
    "\n",
    "![image](image-14.png)\n",
    "\n",
    "```"
   ]
  },
  {
   "cell_type": "markdown",
   "metadata": {},
   "source": [
    "# Finding Multiple Representation of a Point in Polar Coordinates\n",
    "\n",
    "In general for a polar co-ordinate:\n",
    "- $(r,~\\theta)$ =\n",
    "    - $(r,~\\theta \\pm 2\\pi)$\n",
    "    - $(-r,~\\theta \\pm \\pi)$"
   ]
  },
  {
   "cell_type": "markdown",
   "metadata": {},
   "source": [
    "```{exercise}\n",
    ":class: dropdown\n",
    "\n",
    "![image](image.png)\n",
    "\n",
    "2.Given $\\left(4,\\frac{\\pi}{6}\\right)$ in polar coordinates, find two\n",
    "other polar coordinate representations\n",
    " \n",
    " a.with $r>0$       b.with $r<0$\n",
    "\n",
    "a.\n",
    "$(4, \\frac{\\pi}{6} + 2\\pi) = (4, \\frac{13\\pi}{6})$\n",
    "$(4, \\frac{\\pi}{6} - 2\\pi) = (4, \\frac{13\\pi}{6})$\n",
    "\n",
    "b.\n",
    "\n",
    "\n",
    "![](./images/f8GpKtSLengs9c0WfctYpIIUaQ7gsntus.png)\n",
    "\n",
    "![](./images/fio6fdm7qT3VVmgn18uemSqyzVn3AmUIo.png)\n",
    "```"
   ]
  },
  {
   "cell_type": "markdown",
   "metadata": {},
   "source": [
    "## Converting Ordered Pair Between Polar and Rectangular Coordinates\n",
    "\n",
    "Polar Coordinatesa $(r,\\theta)\\to$ Rectangular Coordinates $(x,y)$ \n",
    "- Use $x=r$ coS $\\theta$ and $y=r\\sin\\theta$ Rectangular Coordinates\n",
    "$(x,y)\\rightarrow$ Polar Coordinatess $(r,\\theta)$\n",
    "- Use $r^{2}=x^{2}+y^{2}$ and tan $\\theta=\\frac{y}{x}$ fir $x\\neq0$\n",
    "\n",
    "1.  Convert the ordered pair $\\left(4,\\frac{3\\pi}{2}\\right)$ in polar\n",
    "    coordinates to rectangular coordinates.\n",
    "\n",
    "$x = r\\cos\\theta = 4(\\cos\\frac{3\\pi}{2}) = 4(0) = 0$\n",
    "$y = r\\sin\\theta = 4(\\sin\\frac{3\\pi}{2}) = $\n",
    "\n",
    "Additional Question? How did you know the given coordinates were polar\n",
    "and not rectangular?\n",
    "\n",
    "Because the coordinate has $\\pi$ in one the elements.\n",
    "\n",
    "4.  Convert the ordered pair $\\left(-2,-\\frac{5\\pi}{6}\\right)$ in polar\n",
    "    coordinates to rectangular coordinates.\n",
    "\n",
    "\\begin{align*}\n",
    "x=-2(\\cos\\frac{-5\\pi}{6})=\\sqrt{3} \\\\\n",
    "y=-2(\\sin\\frac{-5\\pi}{6})=1 \\\\\n",
    "(r,\\theta)\\to \\left(-2,-\\frac{5\\pi}{6}\\right)\\\\\n",
    "(x,y)\\to(\\sqrt{3},1) \\\\\n",
    "\\end{align*}\n",
    "\n",
    "![](./images/fesGuiY8S24pgk5GvcnS9nD3RhkgcBUFd.png)\n",
    "\n",
    "1.  Convert (-3,3) from rectangular to polar coordinates. Give two\n",
    "    representations, one with $r>0$ and one with $r<0$\n",
    "\n",
    "\\begin{align*}\n",
    "\\text{Find r}\\\\\n",
    "x^2+y^2=r^2 \\\\\n",
    "(-3)^2+3^2=r^2 \\\\\n",
    "18 = r^2 \\\\\n",
    "\\pm 3\\sqrt{2} = r \\\\\n",
    "\\mathrm{Find~\\theta} \\\\\n",
    "\\tan\\theta =\\frac{y}{x} \\\\\n",
    "QI~\\arctan{1} =\\frac{\\pi}{4} \\\\\n",
    "QII~\\pi-\\frac{\\pi}{4} \\\\\n",
    "QIV~2\\pi-\\frac{\\pi}{4} =\\frac{7\\pi}{4} \\\\\n",
    "\\end{align*}\n",
    "\n",
    "6.Convert (-5,-2) from rectangular to polar coordinates. Give two\n",
    "representations, one with $r>0$ and one with $r<0$\n",
    "\n",
    "\\begin{align*}\n",
    "(-5)^2+-2^2=r^2 \\\\\n",
    "29 = r^2 \\\\\n",
    "\\pm\\sqrt{29}=r \\\\\n",
    "\\tan\\theta =\\frac{-2}{-5} \\\\\n",
    "\\tan\\theta =\\frac{2}{5} \\\\\n",
    "QI \\\\\n",
    "(r,\\theta) \\to \\\\\n",
    "(\\sqrt{29},3.52rad) \\\\\n",
    "(-\\sqrt{29}, 0.38 rad) \\\\\n",
    "\\end{align*}"
   ]
  },
  {
   "cell_type": "markdown",
   "metadata": {},
   "source": [
    "### Polar Coordinate System"
   ]
  },
  {
   "cell_type": "markdown",
   "metadata": {},
   "source": [
    "```{exercise}\n",
    ":class: dropdown\n",
    "\n",
    "![](attachment:./images/fbxXBf0DI4IC7bMr0UPKwnwO1AGk5lFwu.png)\n",
    "\n",
    "1.  Plot the points whose polar cooridnates are given..\n",
    "\n",
    "<!-- -->\n",
    "\n",
    "1.  $\\left(3,\\frac{5\\pi}{6}\\right)$ b.\n",
    "    $\\left(5,-\\frac{\\pi}{4}\\right)$ C. $(3.5,3\\pi)$\n",
    "    d. $\\begin{pmatrix}-4,\\frac{\\pi}{3}\\end{pmatrix}$\n",
    "\n",
    "![](attachment:./images/f5wLBM5Uf9UwNF1BHcG6ADZQmO8rIX581.png)\n",
    "\n",
    "Finding Multiple Representation of a Point in Polar Coordinates\n",
    "\n",
    "There are 3 ways of representing a point.\n",
    "\n",
    "![](attachment:./images/f0Q5Evhpvz4r0QeAVQ2gEMU3Kiu5uC4Oe.png)\n",
    "\n",
    "2.Given $\\left(4,\\frac{\\pi}{6}\\right)$ in polar coordinates, find two\n",
    "other polar coordinate representationse a.with $r>0$ b.with $r<0$\n",
    "\n",
    "![](attachment:./images/f8GpKtSLengs9c0WfctYpIIUaQ7gsntus.png)\n",
    "\n",
    "![](attachment:./images/fio6fdm7qT3VVmgn18uemSqyzVn3AmUIo.png)\n",
    "\n",
    "Polar Coordinatesa $(r,\\theta)\\to$ Rectangular Coordinates $(x,y)$ Use\n",
    "$x=r$ coS $\\theta$ and $y=r\\sin\\theta$ Rectangular Coordinates\n",
    "$(x,y)\\rightarrow$ Polar Coordinatess $(r,\\theta)$ Use\n",
    "$r^{2}=x^{2}+y^{2}$ and tan $\\theta=\\frac{y}{x}$ fir $x\\neq0$\n",
    "\n",
    "1.  Convert the ordered pair $\\left(4,\\frac{3\\pi}{2}\\right)$ in polar\n",
    "    coordinates to rectangular coordinates.\n",
    "\n",
    "Additional Question? How did you know the given coordinates were polar\n",
    "and not rectangular?\n",
    "\n",
    "1.  Convert the ordered pair $\\left(-2,-\\frac{5\\pi}{6}\\right)$ in polar\n",
    "    coordinates to rectangular coordinates.\n",
    "\n",
    "![](attachment:./images/fesGuiY8S24pgk5GvcnS9nD3RhkgcBUFd.png)\n",
    "\n",
    "1.  Convert (-3,3) from rectangular to polar coordinates. Give two\n",
    "    representations, one with $r>0$ and one with $r<0$\n",
    "\n",
    "6.Convert (-5,-2) from rectangular to polar coordinates. Give two\n",
    "representations, one with $r>0$ and one with $r<0$\n",
    "\n",
    "```"
   ]
  },
  {
   "cell_type": "markdown",
   "metadata": {},
   "source": [
    "### Simplifying Imaginary Numbers\n",
    "\n",
    "\\begin{align*}\n",
    "    i^1 &= i \\\\\n",
    "    i^2 &= -1 \\\\\n",
    "    i^3 &= -i \\\\\n",
    "    i^4 &= 1 \\\\\n",
    "    i^5 &= i \\\\\n",
    "    \\dots \\\\\n",
    "\\end{align*}\n",
    "\n",
    "This pattern repeats"
   ]
  },
  {
   "cell_type": "markdown",
   "metadata": {},
   "source": [
    "```{exercise}\n",
    ":class: dropdown\n",
    "\n",
    "We can rewrite $\\sqrt{-5}$ as\n",
    "\n",
    "1.  Write each expression in terms of i.\n",
    "\n",
    "b.√-12 C. $\\sqrt{-13}$ a. $\\sqrt{-25}$\n",
    "\n",
    "1.  Simplify $i^{50}$ and $i^{23}$\n",
    "\n",
    "There are 3 ways of representing a point.\n",
    "\n",
    "![](./images/f0Q5Evhpvz4r0QeAVQ2gEMU3Kiu5uC4Oe.png)\n",
    "\n",
    "```"
   ]
  },
  {
   "cell_type": "markdown",
   "metadata": {},
   "source": [
    "## Complex Numbers\n",
    "\n",
    "Given real numbers. $a$ and $b$ anumber written in theform $a+bi$ is\n",
    "called a complex number. The value $a$ is called the real part of the\n",
    "complex number and the value $b$ is called the imaginary part.\n",
    "\n",
    "$$\n",
    "\\overbrace{5}^{\\text{Real part}} + \\overbrace{(-7)}^{\\text{Imaginary part}}i = 5 - 7i\n",
    "$$"
   ]
  },
  {
   "cell_type": "markdown",
   "metadata": {},
   "source": [
    "1.  Perform the indication operations. Write the answer in complex form,\n",
    "    that means, in the form $a+bi$\n",
    "\n",
    "1.  $(-2-4i)+(5+2i)-(3-6i)$\n",
    "\n",
    "2.  $(-2+6i)(4-3i)$\n",
    "\n",
    "C. $(3+4i)^{2}$"
   ]
  },
  {
   "cell_type": "markdown",
   "metadata": {},
   "source": [
    "# Plotting Complex Numbers in the Complex Plane\n",
    "\n",
    "![](./images/feksF3SOCW2t4lhEVPZvkY3xgH2s8NT1Q.png)\n",
    "\n",
    "The horizontal axis is the real axis and the vertical axis is the\n",
    "imaginary axis.\n",
    "\n",
    "A complex number $z=a+bi$ can be written as an ordered pair $(a,b)$ and\n",
    "can be graphed in the. complex plane.\n",
    "\n",
    "1.  Graph the complex numbers in the complex plane.\n",
    "\n",
    "d.-2i b.4-2i C.-5 a. $3+4i$\n",
    "\n",
    "![](./images/fdnpVPG6wp4U7ZtaZIpePIkNPvwkGirTT.png)\n",
    "\n",
    "![](./images/fNK4pBl8ug9bGNcz4y2ZdTevrHwSxmGeB.png)\n"
   ]
  },
  {
   "cell_type": "code",
   "execution_count": null,
   "metadata": {
    "vscode": {
     "languageId": "plaintext"
    }
   },
   "outputs": [],
   "source": []
  },
  {
   "cell_type": "markdown",
   "metadata": {},
   "source": [
    "## Absolute Value (Modulus) of a Complex Number\n",
    "\n",
    "If $z=a+bi$ is a complex number,then the absolute value of $Z$ (also called the modulus or magnitude of $Z$ )is given by\n",
    "\n",
    "$$|z|=\\sqrt{a^2+b^2}$$"
   ]
  },
  {
   "cell_type": "markdown",
   "metadata": {},
   "source": [
    "11. Find the modulus.\n",
    "\n",
    "    1. $z=3-4i$\n",
    "\n",
    "        $|z| = \\sqrt{3^2+(-4)^2}=5$\n",
    "\n",
    "    2. $z=-8+2i$\n",
    "\n",
    "        $|z| = \\sqrt{(-8)^2+2^2} = \\sqrt{68}$\n",
    "\n",
    "    3. $z=9i$\n",
    "\n",
    "        $|z| = \\sqrt{9^2} = 9$"
   ]
  },
  {
   "cell_type": "markdown",
   "metadata": {},
   "source": [
    "### Polar Form of a Complex Number\n",
    "\n",
    "The polar form (or trigonometric form) of a complex number $z = a + bi$ is\n",
    "\n",
    "$$\n",
    "z = r\\left(\\cos\\theta + i\\sin\\theta\\right)\n",
    "$$\n",
    "\n",
    "where  \n",
    "$a = r\\cos\\theta$,  \n",
    "$b = r\\sin\\theta$,  \n",
    "$r = \\sqrt{a^{2} + b^{2}}$, and  \n",
    "$\\tan\\theta = \\frac{b}{a}$ (with $a \\neq 0$).\n",
    "\n",
    "The value of $r$ is the modulus of $z$, and we say that $\\theta$ is an argument of $z$.  \n",
    "There are infinitely many choices for $\\theta$, but normally, $\\theta$ is taken on the interval  \n",
    "$0 \\leq \\theta < 2\\pi$ or $0^\\circ \\leq \\theta < 360^\\circ$.\n",
    "\n",
    "![Polar diagram](./images/foGYqYSEzUV2QVQ4wwIesikwpy6733fRE.png)"
   ]
  },
  {
   "cell_type": "markdown",
   "metadata": {},
   "source": [
    "```{exercise}\n",
    ":class: dropdown\n",
    "\n",
    "12. Write the complex number in polar form.\n",
    "\n",
    "1. $z = 8 - 15i$\n",
    "\n",
    "    **1. Find $r$:**\n",
    "\n",
    "    \\begin{align*}\n",
    "    r &= |z| = \\sqrt{8^2 + (-15)^2} \\\\\n",
    "      &= \\sqrt{64 + 225} = \\sqrt{289} = 17\n",
    "    \\end{align*}\n",
    "\n",
    "    **2. Find $\\theta$:**\n",
    "\n",
    "    \\begin{align*}\n",
    "    \\tan \\theta &= \\frac{-15}{8} \\Rightarrow \\text{Quadrant IV} \\\\\n",
    "    \\theta &\\approx \\arctan\\left(\\frac{-15}{8}\\right) \\approx -61.93^\\circ\n",
    "    \\end{align*}\n",
    "\n",
    "    **3. Polar form:**\n",
    "\n",
    "    \\begin{align*}\n",
    "    z = 17 \\left( \\cos(-61.93^\\circ) + i\\sin(-61.93^\\circ) \\right)\n",
    "    \\end{align*}\n",
    "\n",
    "2. $z = -2 + 2i$\n",
    "\n",
    "---\n",
    "\n",
    "13. Convert the complex number $z = 4(\\cos 120^\\circ + i \\sin 120^\\circ)$ into rectangular form:\n",
    "\n",
    "\\begin{align*}\n",
    "z &= 4\\left(\\frac{-1}{2} + i\\frac{\\sqrt{3}}{2} \\right) \\\\\n",
    "  &= -2 + 2\\sqrt{3}i\n",
    "\\end{align*}\n",
    "```"
   ]
  },
  {
   "cell_type": "markdown",
   "metadata": {},
   "source": [
    "# Compute Products and Quotients of Complex Numbers in Polar Form\n",
    "\n",
    "## Products and Quotients of Complex Numbers in Polar Form\n",
    "\n",
    "$$\\operatorname{If}z_1=r_1\\begin{pmatrix}\\cos\\theta_1+i\\sin\\theta_1\\end{pmatrix}\\text{and}z_2=r_2\\begin{pmatrix}\\cos\\theta_2+i\\sin\\theta_2\\end{pmatrix}\\text{,then}$$\n",
    "\n",
    "$$\\begin{aligned}\n",
    "&z_{1}z_{2}=r_{1}r_{2}\\left[\\cos{(\\theta_{1}+\\theta_{2})}+i\\sin{(\\theta_{1}+\\theta_{2})}\\right] \\\\\n",
    "&\\frac{z_{1}}{z_{2}}=\\frac{r_{1}}{r_{2}}\\Big[\\cos{(\\theta_{1}-\\theta_{2})}+i\\sin{(\\theta_{1}-\\theta_{2})}\\Big]\\quad(z_{2}\\neq0)\n",
    "\\end{aligned}$$"
   ]
  },
  {
   "cell_type": "markdown",
   "metadata": {},
   "source": [
    "```{tip}\n",
    "The word “moduli” is the plural of the word “modulus.”\n",
    "```"
   ]
  },
  {
   "cell_type": "markdown",
   "metadata": {},
   "source": [
    "\n",
    "1.  Given $z_{1}=4\\left(\\cos\\frac{4\\pi}{3}+i\\sin\\frac{4\\pi}{3}\\right)$\n",
    "    and $z_{2=}3\\left(\\cos\\frac{\\pi}{2}+i\\sin\\frac{\\pi}{2}\\right)$ ,find\n",
    "    $z_1z_2$ and $\\frac{z_1}{z_2}$ . Write your solution in polar form.\n",
    "\n",
    "\\begin{align*}\n",
    "    z_1 \\cdot z_2 = 4 \\cdot 3 [ \\cos(\\frac{4\\pi}{3}+\\frac{\\pi}{2} + i \\sin (\\frac{4\\pi}{3}-\\frac{\\pi}{2}) )\n",
    "\\end{align*}"
   ]
  },
  {
   "cell_type": "markdown",
   "metadata": {},
   "source": [
    "## Compute Powers of Complex Numbers (De Moivre’s Theorem)\n",
    "\n",
    "If $z=r\\left(\\cos\\theta+i\\sin\\theta\\right)$ and n is a positive integer,\n",
    "then\n",
    "\n",
    "$$z^n=\\begin{bmatrix}r\\begin{pmatrix}\\cos\\theta+i\\sin\\theta\\end{pmatrix}\\end{bmatrix}^n=r^n\\begin{pmatrix}\\cos n\\theta+i\\sin n\\theta\\end{pmatrix}.$$\n",
    "\n",
    "In words, to raise $z$ to a positive integer power $n$ raise the modulus\n",
    "to the th power and multiply the argument by $n$"
   ]
  },
  {
   "cell_type": "markdown",
   "metadata": {},
   "source": [
    "```{exercise}\n",
    ":class: dropdown\n",
    "\n",
    "15.  Compute $[5(\\cos75^{\\circ}+i\\sin75^{\\circ})]^{4}$ 75° $75^\\circ$ and\n",
    "    write the result in rectangular form. $a+bi$\n",
    "\n",
    "\\begin{align*}\n",
    "    5^4 [ \\cos (75 \\cdot 4) \\\\\n",
    "\\end{align*}\n",
    "# -> inc\n",
    "\n",
    "16. Compute $(-3+3i)^{6}$ and write the result in rectangular form $a+bi$\n",
    "\n",
    "    1. Find$r$\n",
    "\n",
    "    $r = \\sqrt{(-3)^2+3^2} = 3\\sqrt{2}$\n",
    "\n",
    "    2. Find $\\theta$\n",
    "\n",
    "\\begin{align*}\n",
    "    \\tan \\theta = \\frac{3}{-3} = -1 \\\\\n",
    "    QI \\to \\arctan(1)\n",
    "\\end{align*}\n",
    "```"
   ]
  },
  {
   "cell_type": "markdown",
   "metadata": {},
   "source": [
    "```{tip}\n",
    "Recall that a $+(-bi)$ is usually written as a - bi. Likewise, a real\n",
    "number or pure imaginary number is usually simplified. For example,\n",
    "$a+0i$ is usually written as a, and $0+bi$ is usually written as bi.\n",
    "```"
   ]
  },
  {
   "cell_type": "code",
   "execution_count": null,
   "metadata": {},
   "outputs": [],
   "source": []
  }
 ],
 "metadata": {
  "kernelspec": {
   "display_name": "Python 3 (ipykernel)",
   "language": "python",
   "name": "python3"
  },
  "language_info": {
   "codemirror_mode": {
    "name": "ipython",
    "version": 3
   },
   "file_extension": ".py",
   "mimetype": "text/x-python",
   "name": "python",
   "nbconvert_exporter": "python",
   "pygments_lexer": "ipython3",
   "version": "3.12.9"
  }
 },
 "nbformat": 4,
 "nbformat_minor": 4
}
