{
 "cells": [
  {
   "cell_type": "markdown",
   "id": "0366e523-fc3e-435f-8c44-48de0f6a4d8f",
   "metadata": {},
   "source": [
    "# Gas Laws\n",
    "\n",
    "Here are some useful mnemonics for remembering **gas laws** in chemistry:\n",
    "\n",
    "---\n",
    "\n",
    "**1. Boyle’s Law**\n",
    "\n",
    "**Mnemonic:** **\"Boyle’s balloon bursts\"**  \n",
    "- **Meaning:** Pressure ↑ → Volume ↓ (at constant Temperature)  \n",
    "- **Formula:**  \n",
    "  $$\n",
    "  P \\propto \\frac{1}{V} \\quad \\text{or} \\quad P_1V_1 = P_2V_2\n",
    "  $$\n",
    "\n",
    "---\n",
    "\n",
    "**2. Charles’s Law**  \n",
    "\n",
    "**Mnemonic:** **\"Charles watches hot air balloons rise\"**  \n",
    "- **Meaning:** Temperature ↑ → Volume ↑ (at constant Pressure)  \n",
    "- **Formula:**  \n",
    "  $$\n",
    "  V \\propto T \\quad \\text{or} \\quad \\frac{V_1}{T_1} = \\frac{V_2}{T_2}\n",
    "  $$\n",
    "\n",
    "---\n",
    "\n",
    "**3. Gay-Lussac’s Law**  \n",
    "\n",
    "**Mnemonic:** **\"Gay-Lussac gets pumped\"**  \n",
    "- **Meaning:** Temperature ↑ → Pressure ↑ (at constant Volume)  \n",
    "- **Formula:**  \n",
    "  $$\n",
    "  P \\propto T \\quad \\text{or} \\quad \\frac{P_1}{T_1} = \\frac{P_2}{T_2}\n",
    "  $$\n",
    "\n",
    "---\n",
    "\n",
    "**4. Avogadro’s Law**  \n",
    "\n",
    "**Mnemonic:** **\"Avogadro’s balloons get crowded\"**  \n",
    "- **Meaning:** Moles ↑ → Volume ↑ (at constant Temperature and Pressure)  \n",
    "- **Formula:**  \n",
    "  $$\n",
    "  V \\propto n \\quad \\text{or} \\quad \\frac{V_1}{n_1} = \\frac{V_2}{n_2}\n",
    "  $$\n",
    "\n",
    "---\n",
    "\n",
    "**5. Combined Gas Law**  \n",
    "\n",
    "**Mnemonic:** **\"Can’t Push Very Tall People\"**  \n",
    "- **C = Combined, P = Pressure, V = Volume, T = Temperature, Ppl = People (just filler)**  \n",
    "- **Formula:**  \n",
    "  $$\n",
    "  \\frac{P_1V_1}{T_1} = \\frac{P_2V_2}{T_2}\n",
    "  $$\n",
    "\n",
    "---\n",
    "\n",
    "**6. Ideal Gas Law**  \n",
    "\n",
    "**Mnemonic:** **\"Pivnert\"** (sounds like \"pivot\")  \n",
    "- From: **PV = nRT**  \n",
    "- Helps remember the variables:  \n",
    "  - **P** = Pressure  \n",
    "  - **V** = Volume  \n",
    "  - **n** = number of moles  \n",
    "  - **R** = gas constant  \n",
    "  - **T** = Temperature  \n",
    "\n",
    "---"
   ]
  },
  {
   "cell_type": "markdown",
   "id": "246356c1-6789-4635-a658-f75f84432cee",
   "metadata": {},
   "source": [
    "# Density\n",
    "\n",
    "$$\\frac{n}{V} M = \\frac{PM}{RT}$$\n",
    "\n",
    "$$d = \\frac{PM}{RT}$$\n",
    "\n",
    "Here $M$ = Molar mass"
   ]
  },
  {
   "cell_type": "markdown",
   "id": "259ed9f5-2ac2-43e6-94d3-93f5730c8e34",
   "metadata": {},
   "source": [
    "# Partial Pressure\n",
    "\n",
    "$$\\mathrm{P_n=n_n\\frac{RT}V }$$"
   ]
  },
  {
   "cell_type": "code",
   "execution_count": null,
   "id": "0d786d49-955b-400f-9733-c79d9f3149ab",
   "metadata": {},
   "outputs": [],
   "source": []
  }
 ],
 "metadata": {
  "kernelspec": {
   "display_name": "Python 3 (ipykernel)",
   "language": "python",
   "name": "python3"
  },
  "language_info": {
   "codemirror_mode": {
    "name": "ipython",
    "version": 3
   },
   "file_extension": ".py",
   "mimetype": "text/x-python",
   "name": "python",
   "nbconvert_exporter": "python",
   "pygments_lexer": "ipython3",
   "version": "3.12.9"
  }
 },
 "nbformat": 4,
 "nbformat_minor": 5
}
