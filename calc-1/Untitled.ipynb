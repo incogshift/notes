{
 "cells": [
  {
   "cell_type": "markdown",
   "id": "c6b10e41-021f-44f1-bf60-e8f213861127",
   "metadata": {},
   "source": [
    "For continuous funtions, $\\lim_{x \\to a} f(x) = f(a)$. This is not true when $f$ is discontinuous at a."
   ]
  },
  {
   "cell_type": "markdown",
   "id": "abc3b8cc-95cb-4eb1-ab63-a1ce980d6909",
   "metadata": {},
   "source": [
    "When,\n",
    "\\begin{align*}\n",
    "\\lim_{x \\to a} f(x) = \\infty \\\\\n",
    "\\lim{"
   ]
  }
 ],
 "metadata": {
  "kernelspec": {
   "display_name": "Python 3 (ipykernel)",
   "language": "python",
   "name": "python3"
  },
  "language_info": {
   "codemirror_mode": {
    "name": "ipython",
    "version": 3
   },
   "file_extension": ".py",
   "mimetype": "text/x-python",
   "name": "python",
   "nbconvert_exporter": "python",
   "pygments_lexer": "ipython3",
   "version": "3.12.9"
  }
 },
 "nbformat": 4,
 "nbformat_minor": 5
}
